{
  "nbformat": 4,
  "nbformat_minor": 0,
  "metadata": {
    "colab": {
      "name": "vgg16.ipynb",
      "provenance": [],
      "authorship_tag": "ABX9TyPx0LtQLg6vgx8G/GKGE9aV",
      "include_colab_link": true
    },
    "kernelspec": {
      "name": "python3",
      "display_name": "Python 3"
    },
    "language_info": {
      "name": "python"
    }
  },
  "cells": [
    {
      "cell_type": "markdown",
      "metadata": {
        "id": "view-in-github",
        "colab_type": "text"
      },
      "source": [
        "<a href=\"https://colab.research.google.com/github/HaoyueXU99/CV_Self/blob/main/vgg16.ipynb\" target=\"_parent\"><img src=\"https://colab.research.google.com/assets/colab-badge.svg\" alt=\"Open In Colab\"/></a>"
      ]
    },
    {
      "cell_type": "code",
      "execution_count": 5,
      "metadata": {
        "id": "PsNjd1zHLkJq"
      },
      "outputs": [],
      "source": [
        "from keras.models import Sequential\n",
        "from keras.layers import Dense, Flatten\n",
        "from keras.layers import Conv2D\n",
        "from keras.layers import MaxPooling2D\n",
        "\n"
      ]
    },
    {
      "cell_type": "code",
      "source": [
        "def generate_vgg16():\n",
        "  input_shape = (224,224,3)\n",
        "  model = Sequential([\n",
        "    Conv2D(64, (3,3), input_shape=input_shape, padding=\"same\", activation = \"relu\"),\n",
        "    Conv2D(64, (3,3), padding=\"same\", activation = \"relu\"),\n",
        "    MaxPooling2D(pool_size=(2,2), strides=(2,2)),\n",
        "    MaxPooling2D(pool_size=(2,2), strides=(2,2)),\n",
        "    Flatten(),\n",
        "    Dense(4096, activation=\"relu\"),\n",
        "    Dense(4096, activation=\"relu\"),\n",
        "    Dense(1000, activation=\"softmax\")\n",
        "  ])\n",
        "\n",
        "  return model\n"
      ],
      "metadata": {
        "id": "ZU3zJhDQLq_Y"
      },
      "execution_count": 8,
      "outputs": []
    },
    {
      "cell_type": "code",
      "source": [
        "if __name__ == '__main__':\n",
        "  model = generate_vgg16()\n",
        "  model.summary()"
      ],
      "metadata": {
        "colab": {
          "base_uri": "https://localhost:8080/"
        },
        "id": "33XRCRZrMx-F",
        "outputId": "4a7b000e-587d-40da-b273-04afbfefa2aa"
      },
      "execution_count": 9,
      "outputs": [
        {
          "output_type": "stream",
          "name": "stdout",
          "text": [
            "Model: \"sequential\"\n",
            "_________________________________________________________________\n",
            " Layer (type)                Output Shape              Param #   \n",
            "=================================================================\n",
            " conv2d_2 (Conv2D)           (None, 224, 224, 64)      1792      \n",
            "                                                                 \n",
            " conv2d_3 (Conv2D)           (None, 224, 224, 64)      36928     \n",
            "                                                                 \n",
            " max_pooling2d_1 (MaxPooling  (None, 112, 112, 64)     0         \n",
            " 2D)                                                             \n",
            "                                                                 \n",
            " max_pooling2d_2 (MaxPooling  (None, 56, 56, 64)       0         \n",
            " 2D)                                                             \n",
            "                                                                 \n",
            " flatten (Flatten)           (None, 200704)            0         \n",
            "                                                                 \n",
            " dense (Dense)               (None, 4096)              822087680 \n",
            "                                                                 \n",
            " dense_1 (Dense)             (None, 4096)              16781312  \n",
            "                                                                 \n",
            " dense_2 (Dense)             (None, 1000)              4097000   \n",
            "                                                                 \n",
            "=================================================================\n",
            "Total params: 843,004,712\n",
            "Trainable params: 843,004,712\n",
            "Non-trainable params: 0\n",
            "_________________________________________________________________\n"
          ]
        }
      ]
    }
  ]
}