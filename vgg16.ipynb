{
  "nbformat": 4,
  "nbformat_minor": 0,
  "metadata": {
    "colab": {
      "name": "vgg16.ipynb",
      "provenance": [],
      "authorship_tag": "ABX9TyPn0GRDe41VteQDkc0u1ctA",
      "include_colab_link": true
    },
    "kernelspec": {
      "name": "python3",
      "display_name": "Python 3"
    },
    "language_info": {
      "name": "python"
    }
  },
  "cells": [
    {
      "cell_type": "markdown",
      "metadata": {
        "id": "view-in-github",
        "colab_type": "text"
      },
      "source": [
        "<a href=\"https://colab.research.google.com/github/HaoyueXU99/CV_Self/blob/main/vgg16.ipynb\" target=\"_parent\"><img src=\"https://colab.research.google.com/assets/colab-badge.svg\" alt=\"Open In Colab\"/></a>"
      ]
    },
    {
      "cell_type": "code",
      "execution_count": 5,
      "metadata": {
        "id": "PsNjd1zHLkJq"
      },
      "outputs": [],
      "source": [
        "from keras.models import Sequential\n",
        "from keras.layers import Dense, Flatten\n",
        "from keras.layers import Conv2D\n",
        "from keras.layers import MaxPooling2D\n",
        "\n"
      ]
    },
    {
      "cell_type": "code",
      "source": [
        "def generate_vgg16():\n",
        "  input_shape = (224,224,3)\n",
        "  model = Sequential([\n",
        "    Conv2D(64, (3,3), input_shape=input_shape, padding=\"same\", activation = \"relu\"),\n",
        "    Conv2D(64, (3,3), padding=\"same\", activation = \"relu\"),\n",
        "    MaxPooling2D(pool_size=(2,2), strides=(2,2)),\n",
        "\n",
        "    Conv2D(128, (3,3), padding=\"same\", activation = \"relu\"),\n",
        "    Conv2D(128, (3,3), padding=\"same\", activation = \"relu\"),\n",
        "    MaxPooling2D(pool_size=(2,2), strides=(2,2)),\n",
        "\n",
        "    Conv2D(256, (3,3), padding=\"same\", activation = \"relu\"),\n",
        "    Conv2D(256, (3,3), padding=\"same\", activation = \"relu\"),\n",
        "    Conv2D(256, (3,3), padding=\"same\", activation = \"relu\"),\n",
        "    MaxPooling2D(pool_size=(2,2), strides=(2,2)),\n",
        "\n",
        "    Conv2D(512, (3,3), padding=\"same\", activation = \"relu\"),\n",
        "    Conv2D(512, (3,3), padding=\"same\", activation = \"relu\"),\n",
        "    Conv2D(512, (3,3), padding=\"same\", activation = \"relu\"),\n",
        "    MaxPooling2D(pool_size=(2,2), strides=(2,2)),\n",
        "\n",
        "    Conv2D(512, (3,3), padding=\"same\", activation = \"relu\"),\n",
        "    Conv2D(512, (3,3), padding=\"same\", activation = \"relu\"),\n",
        "    Conv2D(512, (3,3), padding=\"same\", activation = \"relu\"),\n",
        "    MaxPooling2D(pool_size=(2,2), strides=(2,2)),\n",
        "    \n",
        "    Flatten(),\n",
        "    Dense(4096, activation=\"relu\"),\n",
        "    Dense(4096, activation=\"relu\"),\n",
        "    Dense(1000, activation=\"softmax\")\n",
        "  ])\n",
        "\n",
        "  return model\n"
      ],
      "metadata": {
        "id": "ZU3zJhDQLq_Y"
      },
      "execution_count": 10,
      "outputs": []
    },
    {
      "cell_type": "code",
      "source": [
        "if __name__ == '__main__':\n",
        "  model = generate_vgg16()\n",
        "  model.summary()"
      ],
      "metadata": {
        "colab": {
          "base_uri": "https://localhost:8080/"
        },
        "id": "33XRCRZrMx-F",
        "outputId": "74530adb-b372-4fe6-d131-27f04aaf1072"
      },
      "execution_count": 11,
      "outputs": [
        {
          "output_type": "stream",
          "name": "stdout",
          "text": [
            "Model: \"sequential_1\"\n",
            "_________________________________________________________________\n",
            " Layer (type)                Output Shape              Param #   \n",
            "=================================================================\n",
            " conv2d_4 (Conv2D)           (None, 224, 224, 64)      1792      \n",
            "                                                                 \n",
            " conv2d_5 (Conv2D)           (None, 224, 224, 64)      36928     \n",
            "                                                                 \n",
            " max_pooling2d_3 (MaxPooling  (None, 112, 112, 64)     0         \n",
            " 2D)                                                             \n",
            "                                                                 \n",
            " conv2d_6 (Conv2D)           (None, 112, 112, 128)     73856     \n",
            "                                                                 \n",
            " conv2d_7 (Conv2D)           (None, 112, 112, 128)     147584    \n",
            "                                                                 \n",
            " max_pooling2d_4 (MaxPooling  (None, 56, 56, 128)      0         \n",
            " 2D)                                                             \n",
            "                                                                 \n",
            " conv2d_8 (Conv2D)           (None, 56, 56, 256)       295168    \n",
            "                                                                 \n",
            " conv2d_9 (Conv2D)           (None, 56, 56, 256)       590080    \n",
            "                                                                 \n",
            " conv2d_10 (Conv2D)          (None, 56, 56, 256)       590080    \n",
            "                                                                 \n",
            " max_pooling2d_5 (MaxPooling  (None, 28, 28, 256)      0         \n",
            " 2D)                                                             \n",
            "                                                                 \n",
            " conv2d_11 (Conv2D)          (None, 28, 28, 512)       1180160   \n",
            "                                                                 \n",
            " conv2d_12 (Conv2D)          (None, 28, 28, 512)       2359808   \n",
            "                                                                 \n",
            " conv2d_13 (Conv2D)          (None, 28, 28, 512)       2359808   \n",
            "                                                                 \n",
            " max_pooling2d_6 (MaxPooling  (None, 14, 14, 512)      0         \n",
            " 2D)                                                             \n",
            "                                                                 \n",
            " conv2d_14 (Conv2D)          (None, 14, 14, 512)       2359808   \n",
            "                                                                 \n",
            " conv2d_15 (Conv2D)          (None, 14, 14, 512)       2359808   \n",
            "                                                                 \n",
            " conv2d_16 (Conv2D)          (None, 14, 14, 512)       2359808   \n",
            "                                                                 \n",
            " max_pooling2d_7 (MaxPooling  (None, 7, 7, 512)        0         \n",
            " 2D)                                                             \n",
            "                                                                 \n",
            " flatten_1 (Flatten)         (None, 25088)             0         \n",
            "                                                                 \n",
            " dense_3 (Dense)             (None, 4096)              102764544 \n",
            "                                                                 \n",
            " dense_4 (Dense)             (None, 4096)              16781312  \n",
            "                                                                 \n",
            " dense_5 (Dense)             (None, 1000)              4097000   \n",
            "                                                                 \n",
            "=================================================================\n",
            "Total params: 138,357,544\n",
            "Trainable params: 138,357,544\n",
            "Non-trainable params: 0\n",
            "_________________________________________________________________\n"
          ]
        }
      ]
    }
  ]
}